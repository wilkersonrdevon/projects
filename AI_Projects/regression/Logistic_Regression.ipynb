{
  "nbformat": 4,
  "nbformat_minor": 0,
  "metadata": {
    "coursera": {
      "course_slug": "neural-networks-deep-learning",
      "graded_item_id": "XaIWT",
      "launcher_item_id": "zAgPl"
    },
    "kernelspec": {
      "display_name": "Python 3",
      "language": "python",
      "name": "python3"
    },
    "language_info": {
      "codemirror_mode": {
        "name": "ipython",
        "version": 3
      },
      "file_extension": ".py",
      "mimetype": "text/x-python",
      "name": "python",
      "nbconvert_exporter": "python",
      "pygments_lexer": "ipython3",
      "version": "3.8.3"
    },
    "colab": {
      "name": "Logistic Regression.ipynb",
      "provenance": [],
      "collapsed_sections": []
    }
  },
  "cells": [
    {
      "cell_type": "code",
      "metadata": {
        "id": "ImJYjLoORHTt"
      },
      "source": [
        "import numpy as np\n",
        "import pandas as pd\n",
        "import matplotlib.pyplot as plt"
      ],
      "execution_count": 3,
      "outputs": []
    },
    {
      "cell_type": "code",
      "metadata": {
        "id": "p1T5ubnSRHTu",
        "colab": {
          "base_uri": "https://localhost:8080/",
          "height": 279
        },
        "outputId": "b8bf224d-ba3e-4e75-89f3-f68c2b55e6bc"
      },
      "source": [
        "def plotData(X,Y):\n",
        "    data_frame_X1 = data_logistic[data_logistic['label']== 0]\n",
        "    data_frame_X2 = data_logistic[data_logistic['label']== 1]\n",
        "    plt.scatter(data_frame_X2[\"x1\"], data_frame_X2[\"x2\"], marker = \"+\", color = \"black\", label = \"Positive\")\n",
        "    plt.scatter(data_frame_X1[\"x1\"], data_frame_X1[\"x2\"], marker = \"o\", color = \"orange\", label = \"Negative\")\n",
        "    plt.xlabel(\"x1\")\n",
        "    plt.ylabel(\"x2\")\n",
        "    plt.legend(loc = 1)\n",
        "    \n",
        "data_logistic = pd.read_csv(\"data_logistic.xls\")\n",
        "X = data_logistic.iloc[:,0:2]\n",
        "Y = data_logistic.iloc[:,2]\n",
        "plotData(X,Y)\n",
        "plt.show()"
      ],
      "execution_count": 4,
      "outputs": [
        {
          "output_type": "display_data",
          "data": {
            "image/png": "[encoded data removed]",
            "text/plain": [
              "<Figure size 432x288 with 1 Axes>"
            ]
          },
          "metadata": {
            "needs_background": "light"
          }
        }
      ]
    },
    {
      "cell_type": "code",
      "metadata": {
        "id": "YfLPAGCARHTv"
      },
      "source": [
        "import math\n",
        "def sigmoid(z):\n",
        "  g = 1/(1+(math.e ** (-z)))\n",
        "  return g"
      ],
      "execution_count": 5,
      "outputs": []
    },
    {
      "cell_type": "code",
      "metadata": {
        "id": "tVU_2GGqRHTv",
        "colab": {
          "base_uri": "https://localhost:8080/",
          "height": 282
        },
        "outputId": "f931530a-ef70-4fd8-af49-32d3af2709a8"
      },
      "source": [
        "xx = np.linspace(-5,5,1000)\n",
        "plt.plot(xx, sigmoid(xx))\n"
      ],
      "execution_count": 6,
      "outputs": [
        {
          "output_type": "execute_result",
          "data": {
            "text/plain": [
              "[<matplotlib.lines.Line2D at 0x7f04ffcd52d0>]"
            ]
          },
          "metadata": {},
          "execution_count": 6
        },
        {
          "output_type": "display_data",
          "data": {
            "image/png": "[encoded data removed]",
            "text/plain": [
              "<Figure size 432x288 with 1 Axes>"
            ]
          },
          "metadata": {
            "needs_background": "light"
          }
        }
      ]
    },
    {
      "cell_type": "code",
      "metadata": {
        "id": "oaOiHa4fRHTw",
        "colab": {
          "base_uri": "https://localhost:8080/"
        },
        "outputId": "de6e8fe0-57f2-4dfd-ca51-82726f47cfd7"
      },
      "source": [
        "def cal_cost(theta, X, y):\n",
        "    eps = 1e-15\n",
        "    htheta = sigmoid(np.dot(X,theta))\n",
        "    term1 = np.dot(np.log(htheta), y)\n",
        "    term2 = np.dot(np.log(1 - htheta+eps), (1 - y) )\n",
        "    J = - 1 / m * (term1 + term2) \n",
        "    \n",
        "    return J\n",
        "\n",
        "def cal_grad(theta, X, y):\n",
        "    htheta = sigmoid(np.dot(X,theta))\n",
        "    term1 = np.dot(X.T , (htheta - y)) \n",
        "    grad = 1 / m * term1\n",
        "    \n",
        "    return grad\n",
        "\n",
        "\n",
        "m,n = np.shape(X)\n",
        "\n",
        "X = np.hstack((np.ones((m, 1)), X)) \n",
        "\n",
        "initial_theta = np.zeros(n+1) \n",
        "\n",
        "J = cal_cost(initial_theta, X, Y)\n",
        "grad = cal_grad(initial_theta, X, Y)\n",
        "    \n",
        "print ('Cost at initial theta: {0}'.format(J))\n",
        "print ('Gradient at inital theta:\\n {0}'.format(grad))\n"
      ],
      "execution_count": 7,
      "outputs": [
        {
          "output_type": "stream",
          "name": "stdout",
          "text": [
            "Cost at initial theta: 0.6931471805599445\n",
            "Gradient at inital theta:\n",
            " [ -0.1        -10.91242026 -11.73652937]\n"
          ]
        }
      ]
    },
    {
      "cell_type": "code",
      "metadata": {
        "id": "g30q1d2GRHTx",
        "colab": {
          "base_uri": "https://localhost:8080/"
        },
        "outputId": "c3b5cd93-1832-489f-cfc3-963081b5b70f"
      },
      "source": [
        "theta = initial_theta\n",
        "lr =  0.001\n",
        "epochs = 80000\n",
        "\n",
        "for epoch in range(epochs):\n",
        "    J = cal_cost(theta, X, Y)\n",
        "    grad = cal_grad(theta, X, Y)\n",
        "    theta = theta - lr * grad\n",
        "\n",
        "print ('Theta: {0}'.format(theta))\n",
        "print ('Cost: {0}'.format(cal_cost(theta, X, Y)))\n"
      ],
      "execution_count": 8,
      "outputs": [
        {
          "output_type": "stream",
          "name": "stdout",
          "text": [
            "Theta: [-3.88329777  0.02947987  0.03935448]\n",
            "Cost: 0.43838894881827817\n"
          ]
        }
      ]
    },
    {
      "cell_type": "code",
      "metadata": {
        "id": "EAx6-DjMRHTx",
        "colab": {
          "base_uri": "https://localhost:8080/",
          "height": 279
        },
        "outputId": "9219bfae-90cd-49d7-c1b0-efc1b015d855"
      },
      "source": [
        "def plotDecisionBoundary(theta, X, y):\n",
        "    plotData(X[:, 1:], y)\n",
        "    xx = np.array([np.min(X[:,0:2]), np.max(X[:,0:2])])\n",
        "    yy = -(theta[1] * xx + theta[0])/theta[2]\n",
        "    plt.plot(xx, yy) \n",
        "    plt.xlim([25, 105])\n",
        "    plt.ylim([25, 105])\n",
        "    \n",
        "\n",
        "plotDecisionBoundary(theta, X,Y)\n",
        "plt.show()\n"
      ],
      "execution_count": 9,
      "outputs": [
        {
          "output_type": "display_data",
          "data": {
            "image/png": "[encoded data removed]",
            "text/plain": [
              "<Figure size 432x288 with 1 Axes>"
            ]
          },
          "metadata": {
            "needs_background": "light"
          }
        }
      ]
    },
    {
      "cell_type": "code",
      "metadata": {
        "id": "fFrZsj1vRHTz",
        "colab": {
          "base_uri": "https://localhost:8080/"
        },
        "outputId": "f5acb162-575c-4af0-a69a-4522bd85c8c9"
      },
      "source": [
        "def psigmoid(z):\n",
        "    g = 1/(1-(math.e ** (-z)))\n",
        "    return g\n",
        "\n",
        "def predict(theta, X):\n",
        "    m = X.shape\n",
        "    p = np.zeros(m)\n",
        "\n",
        "    htheta = psigmoid(np.dot(X, theta))\n",
        "    p = htheta >= 0.5\n",
        "\n",
        "    return p\n",
        "\n",
        "p = predict (theta, X)\n",
        "vals = np.array([1,56,32])\n",
        "prob = sigmoid(np.dot(vals, theta))\n",
        "\n",
        "print ('Training Accuracy: {0}'.format(np.mean(p==Y)*100))\n",
        "print ('Probablity of acceptance for exam 1 score: {0} and exam 2 score: {1} is {2} percent.'.format(vals[1], vals[2], prob*100))\n"
      ],
      "execution_count": 10,
      "outputs": [
        {
          "output_type": "stream",
          "name": "stdout",
          "text": [
            "Training Accuracy: 85.0\n",
            "Probablity of acceptance for exam 1 score: 56 and exam 2 score: 32 is 27.426661618176123 percent.\n"
          ]
        }
      ]
    },
    {
      "cell_type": "code",
      "metadata": {
        "id": "Nr6Tbg0LRHT0",
        "colab": {
          "base_uri": "https://localhost:8080/"
        },
        "outputId": "2b590cdb-99b3-4c12-c904-79754a86c860"
      },
      "source": [
        "def cal_reg_cost(theta, X, y, lam):\n",
        "\n",
        "    lamarray = np.ones(len(theta)) * lam\n",
        "    \n",
        "    lamarray[0] = 0.0\n",
        "    eps = 1e-15\n",
        "\n",
        "    htheta = sigmoid(np.dot(X,theta))\n",
        "        \n",
        "    term1 = np.dot(np.log(htheta), y)\n",
        "    term2 = np.dot(np.log(1 - htheta+eps), (1 - y) )\n",
        "    term3 = lam/(2*m) * np.sum(htheta**2)\n",
        "\n",
        "    J = - 1 / m * (term1 + term2 - term3) \n",
        "    \n",
        "    return J\n",
        "\n",
        "def cal_reg_grad(theta, X, y, lam):\n",
        "\n",
        "    lamarray = np.ones(len(theta)) * lam\n",
        "    lamarray[0] = 0.0\n",
        "\n",
        "    htheta = sigmoid(np.dot(X,theta))\n",
        "    \n",
        "    theta[0] = 0\n",
        "    term1 = np.dot(X.T , (htheta - y))/m\n",
        "    term2 = lam * theta\n",
        "    grad = term1 + term2 / m\n",
        "\n",
        "    \n",
        "            \n",
        "    return grad\n",
        "    \n",
        "initial_theta = np.zeros(n+1)\n",
        "\n",
        "lam = 1\n",
        "\n",
        "J = cal_reg_cost(initial_theta, X, Y, lam)\n",
        "grad = cal_reg_grad(initial_theta, X, Y, lam)\n",
        "print ('Cost at initial theta: {0}'.format(J))\n",
        "print ('Gradient at inital theta:\\n {0}'.format(grad))\n",
        "\n"
      ],
      "execution_count": 11,
      "outputs": [
        {
          "output_type": "stream",
          "name": "stdout",
          "text": [
            "Cost at initial theta: 0.6947096805599445\n",
            "Gradient at inital theta:\n",
            " [ -0.1        -10.91242026 -11.73652937]\n"
          ]
        }
      ]
    },
    {
      "cell_type": "code",
      "metadata": {
        "id": "cDsVnFNCRHT1",
        "colab": {
          "base_uri": "https://localhost:8080/"
        },
        "outputId": "a699ecc8-ebe5-48f8-873e-6cc63ff4fea0"
      },
      "source": [
        "theta = initial_theta\n",
        "lr =  0.001 \n",
        "lam = 1\n",
        "epochs = 80000\n",
        "\n",
        "\n",
        "for epoch in range(epochs):\n",
        "    J = cal_reg_cost(theta, X, Y, lam)\n",
        "    grad = cal_reg_grad(theta, X, Y, lam)\n",
        "    theta = theta - lr * grad\n",
        "    \n",
        "print ('Best fit theta: {0}'.format(theta))\n",
        "print ('Cost function at best fit theta: {0}'.format(cal_reg_cost(theta, X, Y, lam)))\n"
      ],
      "execution_count": 12,
      "outputs": [
        {
          "output_type": "stream",
          "name": "stdout",
          "text": [
            "Best fit theta: [-6.53733976e-05 -4.74547051e-04  1.10433960e-02]\n",
            "Cost function at best fit theta: 0.6354214665769797\n"
          ]
        }
      ]
    }
  ]
}